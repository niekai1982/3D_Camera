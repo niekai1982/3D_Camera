{
 "cells": [
  {
   "cell_type": "code",
   "execution_count": 2,
   "metadata": {
    "ExecuteTime": {
     "end_time": "2021-11-09T08:38:25.238665Z",
     "start_time": "2021-11-09T08:38:23.489701Z"
    }
   },
   "outputs": [],
   "source": [
    "import cv2\n",
    "import os\n",
    "import numpy as np"
   ]
  },
  {
   "cell_type": "code",
   "execution_count": 3,
   "metadata": {
    "ExecuteTime": {
     "end_time": "2021-11-09T08:38:28.887480Z",
     "start_time": "2021-11-09T08:38:28.865093Z"
    }
   },
   "outputs": [],
   "source": [
    "import serial"
   ]
  },
  {
   "cell_type": "markdown",
   "metadata": {
    "ExecuteTime": {
     "end_time": "2021-11-09T06:52:56.771670Z",
     "start_time": "2021-11-09T06:52:56.764145Z"
    }
   },
   "source": [
    " fd = UART0_Open();//open(dev, O_RDWR); //打开串口，返回文件描述符   \n",
    "    printf(\"fd= %d\\n\",fd);\n",
    "    if(-1 == fd)\n",
    "        return 0;\n",
    "    do \n",
    "    {    \n",
    "        err = UART0_Init(fd,115200,0,8,1,'N');    \n",
    "        printf(\"Set Port Exactly!\\n\"); \n",
    "        sleep(1);   \n",
    "    }while(FALSE == err || FALSE == fd);    \n",
    " \n",
    "    len = UART0_Send(fd,send_buf,3); \n",
    "\n",
    "com = serial.Serial(\"/dev/ttys4\", 115200)"
   ]
  },
  {
   "cell_type": "code",
   "execution_count": 5,
   "metadata": {
    "ExecuteTime": {
     "end_time": "2021-11-09T07:42:06.414075Z",
     "start_time": "2021-11-09T07:42:06.394852Z"
    }
   },
   "outputs": [],
   "source": [
    "com = serial.Serial(\"/dev/tty.usbserial-0001\", 115200)"
   ]
  },
  {
   "cell_type": "code",
   "execution_count": 6,
   "metadata": {
    "ExecuteTime": {
     "end_time": "2021-11-09T07:42:12.321026Z",
     "start_time": "2021-11-09T07:42:12.308337Z"
    }
   },
   "outputs": [
    {
     "data": {
      "text/plain": [
       "True"
      ]
     },
     "execution_count": 6,
     "metadata": {},
     "output_type": "execute_result"
    }
   ],
   "source": [
    "com.is_open"
   ]
  },
  {
   "cell_type": "code",
   "execution_count": 57,
   "metadata": {},
   "outputs": [
    {
     "name": "stdout",
     "output_type": "stream",
     "text": [
      "(54, 3)\n"
     ]
    }
   ],
   "source": [
    "pattern_size = (9, 6)\n",
    "pattern_points = np.zeros((np.prod(pattern_size), 3), np.float32)\n",
    "pattern_points[:, :2] = np.indices(pattern_size).T.reshape(-1, 2)\n",
    "pattern_points *= 10\n",
    "\n",
    "criteria = (cv2.TermCriteria_COUNT + cv2.TermCriteria_EPS, 50)\n",
    "# cal_flag = cv2.CALIB_FIX_K1 + cv2.CALIB_FIX_K2 + cv2.CALIB_FIX_K3 + cv2.CALIB_FIX_K4 + cv2.CALIB_FIX_K5\n",
    "cal_flag = 0 + cv2.CALIB_FIX_K3\n",
    "cal_flag += cv2.CALIB_ZERO_TANGENT_DIST\n",
    "objectPoints = []\n",
    "imagePoints = []\n",
    "print(pattern_points.shape)\n",
    "\n",
    "corners = np.random.randn(pattern_points.shape[0],2)\n",
    "corners.dtype = np.float32\n",
    "corners.shape = -1, 2\n",
    "\n",
    "objectPoints.append(pattern_points)\n",
    "objectPoints.append(pattern_points)\n",
    "\n",
    "imagePoints.append(corners)\n",
    "imagePoints.append(corners)\n",
    "\n"
   ]
  },
  {
   "cell_type": "code",
   "execution_count": 49,
   "outputs": [
    {
     "ename": "error",
     "evalue": "OpenCV(4.5.1) /private/var/folders/nz/vv4_9tw56nv9k3tkvyszvwg80000gn/T/pip-req-build-f5481crx/opencv/modules/calib3d/src/calibration.cpp:3358: error: (-2:Unspecified error) in function 'void cv::collectCalibrationData(cv::InputArrayOfArrays, cv::InputArrayOfArrays, cv::InputArrayOfArrays, int, cv::Mat &, cv::Mat &, cv::Mat *, cv::Mat &)'\n> Number of object and image points must be equal (expected: 'numberOfObjectPoints == numberOfImagePoints'), where\n>     'numberOfObjectPoints' is 54\n> must be equal to\n>     'numberOfImagePoints' is 108\n",
     "output_type": "error",
     "traceback": [
      "\u001B[0;31m---------------------------------------------------------------------------\u001B[0m",
      "\u001B[0;31merror\u001B[0m                                     Traceback (most recent call last)",
      "\u001B[0;32m<ipython-input-49-f98d82c70cdb>\u001B[0m in \u001B[0;36m<module>\u001B[0;34m\u001B[0m\n\u001B[0;32m----> 1\u001B[0;31m \u001B[0mcam_ret\u001B[0m\u001B[0;34m,\u001B[0m \u001B[0mcam_k\u001B[0m\u001B[0;34m,\u001B[0m \u001B[0mcam_kc\u001B[0m\u001B[0;34m,\u001B[0m \u001B[0mcam_rvecs\u001B[0m\u001B[0;34m,\u001B[0m \u001B[0mcam_tvecs\u001B[0m \u001B[0;34m=\u001B[0m \u001B[0mcv2\u001B[0m\u001B[0;34m.\u001B[0m\u001B[0mcalibrateCamera\u001B[0m\u001B[0;34m(\u001B[0m\u001B[0mobjectPoints\u001B[0m\u001B[0;34m,\u001B[0m \u001B[0mimagePoints\u001B[0m\u001B[0;34m,\u001B[0m \u001B[0;34m(\u001B[0m\u001B[0;36m100\u001B[0m\u001B[0;34m,\u001B[0m \u001B[0;36m100\u001B[0m\u001B[0;34m)\u001B[0m\u001B[0;34m,\u001B[0m \u001B[0mcal_flag\u001B[0m\u001B[0;34m,\u001B[0m \u001B[0mcriteria\u001B[0m\u001B[0;34m)\u001B[0m\u001B[0;34m\u001B[0m\u001B[0;34m\u001B[0m\u001B[0m\n\u001B[0m\u001B[1;32m      2\u001B[0m \u001B[0;34m\u001B[0m\u001B[0m\n",
      "\u001B[0;31merror\u001B[0m: OpenCV(4.5.1) /private/var/folders/nz/vv4_9tw56nv9k3tkvyszvwg80000gn/T/pip-req-build-f5481crx/opencv/modules/calib3d/src/calibration.cpp:3358: error: (-2:Unspecified error) in function 'void cv::collectCalibrationData(cv::InputArrayOfArrays, cv::InputArrayOfArrays, cv::InputArrayOfArrays, int, cv::Mat &, cv::Mat &, cv::Mat *, cv::Mat &)'\n> Number of object and image points must be equal (expected: 'numberOfObjectPoints == numberOfImagePoints'), where\n>     'numberOfObjectPoints' is 54\n> must be equal to\n>     'numberOfImagePoints' is 108\n"
     ]
    }
   ],
   "source": [
    "cam_ret, cam_k, cam_kc, cam_rvecs, cam_tvecs = cv2.calibrateCamera(objectPoints, imagePoints, (100, 100), cal_flag, criteria)"
   ],
   "metadata": {
    "collapsed": false,
    "pycharm": {
     "name": "#%%\n"
    }
   }
  },
  {
   "cell_type": "code",
   "execution_count": 55,
   "outputs": [
    {
     "name": "stdout",
     "output_type": "stream",
     "text": [
      "(54, 3)\n",
      "(54, 3)\n"
     ]
    }
   ],
   "source": [
    "len(objectPoints)\n",
    "print(objectPoints[0].shape)\n",
    "print(objectPoints[1].shape)"
   ],
   "metadata": {
    "collapsed": false,
    "pycharm": {
     "name": "#%%\n"
    }
   }
  },
  {
   "cell_type": "code",
   "execution_count": 56,
   "outputs": [
    {
     "name": "stdout",
     "output_type": "stream",
     "text": [
      "(108, 2)\n",
      "(108, 2)\n"
     ]
    }
   ],
   "source": [
    "len(imagePoints)\n",
    "print(imagePoints[0].shape)\n",
    "print(imagePoints[1].shape)"
   ],
   "metadata": {
    "collapsed": false,
    "pycharm": {
     "name": "#%%\n"
    }
   }
  },
  {
   "cell_type": "code",
   "execution_count": null,
   "outputs": [],
   "source": [],
   "metadata": {
    "collapsed": false,
    "pycharm": {
     "name": "#%%\n"
    }
   }
  }
 ],
 "metadata": {
  "hide_input": false,
  "kernelspec": {
   "display_name": "Python 3",
   "language": "python",
   "name": "python3"
  },
  "toc": {
   "base_numbering": 1,
   "nav_menu": {},
   "number_sections": true,
   "sideBar": true,
   "skip_h1_title": false,
   "title_cell": "Table of Contents",
   "title_sidebar": "Contents",
   "toc_cell": false,
   "toc_position": {},
   "toc_section_display": true,
   "toc_window_display": false
  },
  "varInspector": {
   "cols": {
    "lenName": 16,
    "lenType": 16,
    "lenVar": 40
   },
   "kernels_config": {
    "python": {
     "delete_cmd_postfix": "",
     "delete_cmd_prefix": "del ",
     "library": "var_list.py",
     "varRefreshCmd": "print(var_dic_list())"
    },
    "r": {
     "delete_cmd_postfix": ") ",
     "delete_cmd_prefix": "rm(",
     "library": "var_list.r",
     "varRefreshCmd": "cat(var_dic_list()) "
    }
   },
   "types_to_exclude": [
    "module",
    "function",
    "builtin_function_or_method",
    "instance",
    "_Feature"
   ],
   "window_display": false
  }
 },
 "nbformat": 4,
 "nbformat_minor": 4
}