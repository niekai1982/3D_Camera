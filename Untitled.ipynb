{
 "cells": [
  {
   "cell_type": "code",
   "execution_count": 1,
   "metadata": {
    "ExecuteTime": {
     "end_time": "2021-11-09T08:38:25.238665Z",
     "start_time": "2021-11-09T08:38:23.489701Z"
    }
   },
   "outputs": [],
   "source": [
    "import cv2"
   ]
  },
  {
   "cell_type": "code",
   "execution_count": 2,
   "metadata": {
    "ExecuteTime": {
     "end_time": "2021-11-09T08:38:28.204904Z",
     "start_time": "2021-11-09T08:38:28.201050Z"
    }
   },
   "outputs": [],
   "source": [
    "import os"
   ]
  },
  {
   "cell_type": "code",
   "execution_count": 3,
   "metadata": {
    "ExecuteTime": {
     "end_time": "2021-11-09T08:38:28.887480Z",
     "start_time": "2021-11-09T08:38:28.865093Z"
    }
   },
   "outputs": [],
   "source": [
    "import serial"
   ]
  },
  {
   "cell_type": "markdown",
   "metadata": {
    "ExecuteTime": {
     "end_time": "2021-11-09T06:52:56.771670Z",
     "start_time": "2021-11-09T06:52:56.764145Z"
    }
   },
   "source": [
    " fd = UART0_Open();//open(dev, O_RDWR); //打开串口，返回文件描述符   \n",
    "    printf(\"fd= %d\\n\",fd);\n",
    "    if(-1 == fd)\n",
    "        return 0;\n",
    "    do \n",
    "    {    \n",
    "        err = UART0_Init(fd,115200,0,8,1,'N');    \n",
    "        printf(\"Set Port Exactly!\\n\"); \n",
    "        sleep(1);   \n",
    "    }while(FALSE == err || FALSE == fd);    \n",
    " \n",
    "    len = UART0_Send(fd,send_buf,3); \n",
    "\n",
    "com = serial.Serial(\"/dev/ttys4\", 115200)"
   ]
  },
  {
   "cell_type": "code",
   "execution_count": 5,
   "metadata": {
    "ExecuteTime": {
     "end_time": "2021-11-09T07:42:06.414075Z",
     "start_time": "2021-11-09T07:42:06.394852Z"
    }
   },
   "outputs": [],
   "source": [
    "com = serial.Serial(\"/dev/tty.usbserial-0001\", 115200)"
   ]
  },
  {
   "cell_type": "code",
   "execution_count": 6,
   "metadata": {
    "ExecuteTime": {
     "end_time": "2021-11-09T07:42:12.321026Z",
     "start_time": "2021-11-09T07:42:12.308337Z"
    }
   },
   "outputs": [
    {
     "data": {
      "text/plain": [
       "True"
      ]
     },
     "execution_count": 6,
     "metadata": {},
     "output_type": "execute_result"
    }
   ],
   "source": [
    "com.is_open"
   ]
  },
  {
   "cell_type": "code",
   "execution_count": null,
   "metadata": {},
   "outputs": [],
   "source": []
  }
 ],
 "metadata": {
  "hide_input": false,
  "kernelspec": {
   "display_name": "Python 3",
   "language": "python",
   "name": "python3"
  },
  "toc": {
   "base_numbering": 1,
   "nav_menu": {},
   "number_sections": true,
   "sideBar": true,
   "skip_h1_title": false,
   "title_cell": "Table of Contents",
   "title_sidebar": "Contents",
   "toc_cell": false,
   "toc_position": {},
   "toc_section_display": true,
   "toc_window_display": false
  },
  "varInspector": {
   "cols": {
    "lenName": 16,
    "lenType": 16,
    "lenVar": 40
   },
   "kernels_config": {
    "python": {
     "delete_cmd_postfix": "",
     "delete_cmd_prefix": "del ",
     "library": "var_list.py",
     "varRefreshCmd": "print(var_dic_list())"
    },
    "r": {
     "delete_cmd_postfix": ") ",
     "delete_cmd_prefix": "rm(",
     "library": "var_list.r",
     "varRefreshCmd": "cat(var_dic_list()) "
    }
   },
   "types_to_exclude": [
    "module",
    "function",
    "builtin_function_or_method",
    "instance",
    "_Feature"
   ],
   "window_display": false
  }
 },
 "nbformat": 4,
 "nbformat_minor": 4
}
